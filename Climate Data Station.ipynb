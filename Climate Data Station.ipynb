{
 "cells": [
  {
   "cell_type": "markdown",
   "id": "728c509c",
   "metadata": {},
   "source": [
    "# Read csv"
   ]
  },
  {
   "cell_type": "code",
   "execution_count": 2,
   "id": "c55f4ffe",
   "metadata": {},
   "outputs": [],
   "source": [
    "import numpy as np\n",
    "w1 = 0.5\n",
    "w2 = 0.3\n",
    "w3 = 0.2\n",
    "\n",
    "climate = ['climate_data_station1.csv', 'climate_data_station2.csv', 'climate_data_station3.csv','climate_data_station4.csv', 'climate_data_station5.csv', 'climate_data_station6.csv','climate_data_station7.csv', 'climate_data_station8.csv', 'climate_data_station9.csv','climate_data_station10.csv']\n",
    "\n",
    "a = []\n",
    "\n",
    "for i in climate:\n",
    "    arr = np.loadtxt(i, delimiter=\",\", skiprows=1)\n",
    "    temp = arr[:, 0]  \n",
    "    rain = arr[:, 1]  \n",
    "    hum = arr[:, 2]  \n",
    "    yield_of_corp = w1 * temp + w2 * rain + w3 * hum\n",
    "    data = np.column_stack((arr, yield_of_corp))\n",
    "    a.append(data)\n",
    "\n",
    "a = np.concatenate(a, axis=0)\n",
    "np.savetxt('climate_result.csv', a, delimiter=',')\n"
   ]
  },
  {
   "cell_type": "code",
   "execution_count": null,
   "id": "730093a6",
   "metadata": {},
   "outputs": [],
   "source": []
  },
  {
   "cell_type": "code",
   "execution_count": null,
   "id": "5951d092",
   "metadata": {},
   "outputs": [],
   "source": []
  }
 ],
 "metadata": {
  "kernelspec": {
   "display_name": "Python 3 (ipykernel)",
   "language": "python",
   "name": "python3"
  },
  "language_info": {
   "codemirror_mode": {
    "name": "ipython",
    "version": 3
   },
   "file_extension": ".py",
   "mimetype": "text/x-python",
   "name": "python",
   "nbconvert_exporter": "python",
   "pygments_lexer": "ipython3",
   "version": "3.11.5"
  }
 },
 "nbformat": 4,
 "nbformat_minor": 5
}
